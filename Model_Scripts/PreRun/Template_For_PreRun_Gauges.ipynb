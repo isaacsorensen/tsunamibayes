{
 "cells": [
  {
   "cell_type": "code",
   "execution_count": 1,
   "metadata": {
    "collapsed": true
   },
   "outputs": [],
   "source": [
    "#This is the Notebook example for how to form files of Gauges and FGMAX for the GEOCLAW program\n",
    "\"\"\"\n",
    "Created By Cody Kesler and Hunter\n",
    "Property of BYU Mathematics Dept.\n",
    "\"\"\"\n",
    "\n",
    "%matplotlib inline\n",
    "%run gauge.py\n",
    "import ShoreAngle\n",
    "import matplotlib.pyplot as plt\n",
    "import scipy.stats as stats\n",
    "import numpy as np\n",
    "gauges = list()"
   ]
  },
  {
   "cell_type": "code",
   "execution_count": 2,
   "metadata": {
    "collapsed": true
   },
   "outputs": [],
   "source": [
    "#EXAMPLE GAUGE. COPY AND FILL IN FOR AS MANY GAUGES AS YOU HAVE:\n",
    "city_name = 'Pulu Ai - Wichmann'\n",
    "name = 10001 # Pulu Ai - Wichmann\n",
    "longitude = -4.517863\n",
    "latitude = 129.7745653\n",
    "distance = 2.5 # in kilometers (max 5) //TODO Not sure what this is??\n",
    "kind = ['skewnorm', 'norm', 'chi2']\n",
    "#Depending on how kind is defined\n",
    "# For kind = 'skewnorm'\n",
    "arrival_skew_param = None\n",
    "arrival_mean = None  # in minutes\n",
    "arrival_std = None\n",
    "arrival_params = [arrival_skew_param, arrival_mean, arrival_std]\n",
    "\n",
    "# For kind = 'norm'\n",
    "height_mean = 1. # in meters\n",
    "height_std =  0.2\n",
    "height_params = [height_mean, height_std]\n",
    "\n",
    "# For kind = 'chi2'\n",
    "inundation_k = None\n",
    "inundation_lower_bound = None\n",
    "inundation_params = [inundation_k, inundation_lower_bound]\n",
    "\n",
    "# USE IF YOU HAVE SHORE PROFILES ANGLES IN AN EXCEL SHEET GENERATED FROM () :\n",
    "#just the name of the excel file with no extention:\n",
    "ShoreAngles = ShoreAngle.ShoreLineAngles('lonthor_profiles') \n",
    "profiles_to_average = [10,11,12,13]\n",
    "LONTHOR_average_angle = ShoreAngles.getAveragesSlopeAngles(profiles_to_average)\n",
    "beta = LONTHOR_average_angle\n",
    "\n",
    "n = .03\n",
    "\n",
    "g = Gauge(name, longitude, latitude, distance,\n",
    "                kind, arrival_params, height_params, inundation_params, beta, n, city_name)\n",
    "gauges.append(g.to_json())\n",
    "\n",
    "\n",
    "#THIS IS FOR DISPLAYING THE DISTRIBUTIONS IF NEEDED:\n",
    "#Skewnorm\n",
    "domain = np.linspace(0,600,1000)\n",
    "distrib = stats.skewnorm.pdf(domain, _skew_param, _mean,_std)\n",
    "plt.plot(domain,distrib)\n",
    "plt.xlabel(\"Appropriate Label\")\n",
    "plt.show()\n",
    "\n",
    "# Normal Distribution\n",
    "dist = stats.norm(_mean, _std)\n",
    "domain = np.linspace(0,8,1000)\n",
    "plt.plot(domain, dist.pdf(domain))\n",
    "plt.xlabel(\"Appropriate Label\")\n",
    "plt.plot()\n",
    "plt.show()\n",
    "\n",
    "## Chi2\n",
    "domain = np.linspace(_lower_bound, _upper_bound,100)\n",
    "plt.plot(domain, stats.chi(height_k).pdf(domain - .5))\n",
    "plt.xlabel(\"Appropriate Label\")\n",
    "plt.show()\n"
   ]
  },
  {
   "cell_type": "markdown",
   "metadata": {},
   "source": [
    "Arrival/Height/Inundation Distribution Justification (FOR ABOVE): Explain why you chose the numbers you did"
   ]
  },
  {
   "cell_type": "code",
   "execution_count": null,
   "metadata": {
    "collapsed": true
   },
   "outputs": [],
   "source": [
    "#This is to save files to be used to input into GEOCLAW\n",
    "\n",
    "#Puts the gauges into a numpy array file \n",
    "np.save('gauges', gauges)\n",
    "\n",
    "#Formates the FG Max data needed for the GEOCLAW run \n",
    "#Adjust the numbers as needed\n",
    "f = open('fgmax_grid.txt','w')\n",
    "f.write('1.0000000000e+01            # tstart_max\\n')\n",
    "f.write('1.0000000000e+10            # tstart_max\\n')\n",
    "f.write('0.0000000000e+00            # dt_check\\n')\n",
    "f.write('3                           # min_level_check\\n')\n",
    "f.write('1.0000000000e-01            # arrival_tol\\n')\n",
    "f.write('0                           # point_style\\n')\n",
    "f.write(str(len(gauges)) + '                           # npts\\n')\n",
    "\n",
    "\n",
    "for gauge in gauges:\n",
    "    f.write(str(gauge['latitude']) + '       ' + str(gauge['longitude']) + '\\n')\n",
    "\n",
    "f.close()"
   ]
  }
 ],
 "metadata": {
  "kernelspec": {
   "display_name": "Python 3",
   "language": "python",
   "name": "python3"
  },
  "language_info": {
   "codemirror_mode": {
    "name": "ipython",
    "version": 3
   },
   "file_extension": ".py",
   "mimetype": "text/x-python",
   "name": "python",
   "nbconvert_exporter": "python",
   "pygments_lexer": "ipython3",
   "version": "3.6.5"
  }
 },
 "nbformat": 4,
 "nbformat_minor": 2
}
