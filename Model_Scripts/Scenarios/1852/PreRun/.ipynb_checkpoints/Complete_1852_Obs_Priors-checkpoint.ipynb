{
 "cells": [
  {
   "cell_type": "code",
   "execution_count": 7,
   "metadata": {},
   "outputs": [],
   "source": [
    "#This notebook contains each of the Wichmann and Tsunami catalog\n",
    "#observation distributions, their reference location and a brief \n",
    "#explanation of why we constructed them the way we did\n",
    "\n",
    "%matplotlib inline\n",
    "import matplotlib.pyplot as plt\n",
    "import scipy.stats as stats\n",
    "import numpy as np\n",
    "\n",
    "import sys\n",
    "sys.path.append('Classes/')\n",
    "sys.path.append('../')\n",
    "from gauge import Gauge\n",
    "from ShoreAngle import ShoreLineAngles\n",
    "gauges = list()"
   ]
  },
  {
   "cell_type": "code",
   "execution_count": 2,
   "metadata": {},
   "outputs": [
    {
     "data": {
      "image/png": "[encoded data removed]",
      "text/plain": [
       "<Figure size 432x288 with 1 Axes>"
      ]
     },
     "metadata": {},
     "output_type": "display_data"
    }
   ],
   "source": [
    "#Pulu Ai - Wichmann\n",
    "#Pg 148 - \"the flood wave reached only a few feet above the usual water level\"\n",
    "#North Shoreline coordinates - [-4.517863, 129.7745653]\n",
    "\n",
    "\n",
    "city_name = 'Pulu Ai - Wichmann'\n",
    "name = 10001 # Pulu Ai - Wichmann\n",
    "longitude = -4.517863\n",
    "latitude = 129.7745653\n",
    "distance = 2.5 # in kilometers (max 5) //TODO Not sure what this is??\n",
    "kind = [None, 'norm', None]\n",
    "\n",
    "# For kind = 'norm'\n",
    "arrival_mean = None # in minutes\n",
    "arrival_std = None\n",
    "arrival_params = [arrival_mean, arrival_std]\n",
    "height_mean = 1. # in meters\n",
    "height_std =  0.2\n",
    "height_params = [height_mean, height_std]\n",
    "inundation_std = None\n",
    "inundation_mean = None\n",
    "inundation_params = [inundation_mean, inundation_std]\n",
    "\n",
    "beta = 0\n",
    "n = .015 # OR .03\n",
    "\n",
    "g = Gauge(name, longitude, latitude, distance,\n",
    "                kind, arrival_params, height_params, inundation_params, beta, n, city_name)\n",
    "gauges.append(g.to_json())\n",
    "\n",
    "Pulu_Ai_1 = stats.norm(height_mean,height_std)\n",
    "D_Pulu_Ai_1 = np.linspace(0,2,1000)\n",
    "plt.plot(D_Pulu_Ai_1, Pulu_Ai_1.pdf(D_Pulu_Ai_1))\n",
    "plt.xlabel(\"water height (meters)\")\n",
    "plt.show()\n"
   ]
  },
  {
   "cell_type": "markdown",
   "metadata": {},
   "source": [
    "Justification: I chose the mean as 1.8 meters since this was given in the observation. The presence of two fairly precise measurements lead me to think that this the historical record is fairly accurate, so I chose the variance to be very small, about a third of a foot."
   ]
  },
  {
   "cell_type": "code",
   "execution_count": 3,
   "metadata": {},
   "outputs": [
    {
     "data": {
      "image/png": "[encoded data removed]",
      "text/plain": [
       "<Figure size 432x288 with 1 Axes>"
      ]
     },
     "metadata": {},
     "output_type": "display_data"
    }
   ],
   "source": [
    "#Ambonia - Wichmann\n",
    "#Pg 149 \"the sea (the low water level climbed to 1.8m, a height that exceeded the \n",
    "#highest high water level by 20 cm\"\n",
    "\n",
    "#Port Shore coordinates: [-3.693521, 128.175538] \n",
    "#I JUST CHOSE THE PORT AS THE OBSERVATION LOCATION SINCE IT WAS THE LARGEST CITY, SO I ASSUME THE OLDEST\n",
    "#WE'LL PROBABLY WANT TO DOUBLE CHECK THIS ONE.\n",
    "\n",
    "city_name = 'Ambonia - Wichmann'\n",
    "name = 10002\n",
    "longitude = -3.693521\n",
    "latitude = 128.175538\n",
    "distance = 2.5 # in kilometers (max 5) //TODO Not sure what this is??\n",
    "kind = [None, 'norm', None]\n",
    "\n",
    "# For kind = 'norm'\n",
    "arrival_mean = None  # in minutes\n",
    "arrival_std = None\n",
    "height_mean = 1.8  # in meters\n",
    "height_std = 0.1\n",
    "arrival_params = [arrival_mean, arrival_std]\n",
    "height_params = [height_mean, height_std]\n",
    "inundation_std = None\n",
    "inundation_mean = None\n",
    "inundation_params = [inundation_mean, inundation_std]\n",
    "beta = 0\n",
    "n = .015\n",
    "\n",
    "g = Gauge(name, longitude, latitude, distance,\n",
    "                kind, arrival_params, height_params, inundation_params, beta, n, city_name)\n",
    "gauges.append(g.to_json())\n",
    "\n",
    "\n",
    "Amb_1 = stats.norm(height_mean,height_std)\n",
    "D_Amb_1 = np.linspace(0.5,3,1000)\n",
    "plt.plot(D_Amb_1,Amb_1.pdf(D_Amb_1))\n",
    "plt.xlabel(\"water height (meters)\")\n",
    "plt.show()"
   ]
  },
  {
   "cell_type": "markdown",
   "metadata": {},
   "source": [
    "Justification: I chose the mean as 3m since this was the observation. I chose the variance to be 1m because I thought it was sufficiently large enough to reflect the absence of more information in the observation."
   ]
  },
  {
   "cell_type": "code",
   "execution_count": 4,
   "metadata": {
    "scrolled": true
   },
   "outputs": [
    {
     "ename": "NameError",
     "evalue": "name 'ShoreAngle' is not defined",
     "output_type": "error",
     "traceback": [
      "\u001b[0;31m---------------------------------------------------------------------------\u001b[0m",
      "\u001b[0;31mNameError\u001b[0m                                 Traceback (most recent call last)",
      "\u001b[0;32m<ipython-input-4-e0c1cf5cfdde>\u001b[0m in \u001b[0;36m<module>\u001b[0;34m()\u001b[0m\n\u001b[1;32m     25\u001b[0m \u001b[0;31m# Load the beta angles for the shore elevation for inundation priors for\u001b[0m\u001b[0;34m\u001b[0m\u001b[0;34m\u001b[0m\u001b[0m\n\u001b[1;32m     26\u001b[0m \u001b[0;31m# BANDA_NEIRA\u001b[0m\u001b[0;34m\u001b[0m\u001b[0;34m\u001b[0m\u001b[0m\n\u001b[0;32m---> 27\u001b[0;31m \u001b[0mShoreAngles\u001b[0m \u001b[0;34m=\u001b[0m \u001b[0mShoreAngle\u001b[0m\u001b[0;34m.\u001b[0m\u001b[0mShoreLineAngles\u001b[0m\u001b[0;34m(\u001b[0m\u001b[0;34m'south_banda_neira_profiles'\u001b[0m\u001b[0;34m)\u001b[0m\u001b[0;34m\u001b[0m\u001b[0m\n\u001b[0m\u001b[1;32m     28\u001b[0m \u001b[0mprofiles_to_average\u001b[0m \u001b[0;34m=\u001b[0m \u001b[0;34m[\u001b[0m\u001b[0;36m1\u001b[0m\u001b[0;34m,\u001b[0m \u001b[0;36m2\u001b[0m\u001b[0;34m,\u001b[0m \u001b[0;36m3\u001b[0m\u001b[0;34m]\u001b[0m\u001b[0;34m\u001b[0m\u001b[0m\n\u001b[1;32m     29\u001b[0m \u001b[0mBANDA_NEIRA_average_angle\u001b[0m \u001b[0;34m=\u001b[0m \u001b[0mShoreAngles\u001b[0m\u001b[0;34m.\u001b[0m\u001b[0mgetAveragesSlopeAngles\u001b[0m\u001b[0;34m(\u001b[0m\u001b[0mprofiles_to_average\u001b[0m\u001b[0;34m)\u001b[0m\u001b[0;34m\u001b[0m\u001b[0m\n",
      "\u001b[0;31mNameError\u001b[0m: name 'ShoreAngle' is not defined"
     ]
    }
   ],
   "source": [
    "#Banda Neira - Tsunami Catalog\n",
    "#Pg 242 - \"The water rose to the roofs of the storehouses and homes\"\n",
    "#Fort Nassau side dock shore coordinates: [-4.529905, 129.897376]\n",
    "\n",
    "city_name = 'Banda Neira - Tsunami Catalog'\n",
    "name = 10003  #\n",
    "longitude = -4.529905\n",
    "latitude = 129.897376\n",
    "distance = 2.5  # in kilometers (max 5) //TODO Not sure what this is??\n",
    "kind = ['skewnorm', 'norm', 'skewnorm']\n",
    "\n",
    "# For kind = 'norm'\n",
    "arrival_skew_param = 5\n",
    "arrival_mean = 15  # in minutes\n",
    "arrival_std = 10\n",
    "arrival_params = [arrival_skew_param, arrival_mean, arrival_std]\n",
    "height_mean = 4.0  # in meters\n",
    "height_std = 1.0\n",
    "height_params = [height_mean, height_std]\n",
    "inundation_skew_param = 3\n",
    "inundation_mean = 231  # in meters\n",
    "inundation_std = 85\n",
    "inundation_params = [inundation_skew_param, inundation_mean, inundation_std]\n",
    "\n",
    "# Load the beta angles for the shore elevation for inundation priors for\n",
    "# BANDA_NEIRA\n",
    "ShoreAngles = ShoreAngle.ShoreLineAngles('south_banda_neira_profiles')\n",
    "profiles_to_average = [1, 2, 3]\n",
    "BANDA_NEIRA_average_angle = ShoreAngles.getAveragesSlopeAngles(profiles_to_average)\n",
    "beta = BANDA_NEIRA_average_angle\n",
    "\n",
    "n = .03\n",
    "\n",
    "g = Gauge(name, longitude, latitude, distance,\n",
    "                kind, arrival_params, height_params, inundation_params, beta, n, city_name)\n",
    "gauges.append(g.to_json())\n",
    "\n",
    "Neira_1 = stats.norm(height_mean,height_std)\n",
    "D_Neira_1 = np.linspace(0,8,1000)\n",
    "plt.plot(D_Neira_1, Neira_1.pdf(D_Neira_1))\n",
    "plt.xlabel(\"wave height at the homes (meters)\")\n",
    "plt.plot()\n",
    "plt.show()\n",
    "\n",
    "#Banda Neira - Wichmann\n",
    "#Pg 148 - \"Reached the base of the hill on which Fort\n",
    "#Belgica is built on Banda Neira\n",
    "#Fort Nassau side dock shore coordinates: [-4.529905, 129.897376]\n",
    "\n",
    "domain = np.linspace(0,600,1000)\n",
    "distrib = stats.skewnorm.pdf(domain,inundation_skew_param,inundation_mean,inundation_std)\n",
    "plt.plot(domain,distrib)\n",
    "plt.xlabel(\"Inundation(meters)\")\n",
    "plt.show()\n",
    "\n",
    "#Banda Neira - Wichmann\n",
    "#Pg 144 - 145 - \"Barely had the ground\n",
    "#been calm for a quarter of an hour when the flood wave crashed in\n",
    "\n",
    "#Fort Nassau side dock shore coordinates: [-4.529905, 129.897376]\n",
    "\n",
    "mean = 15\n",
    "var = 10\n",
    "skew = 5\n",
    "\n",
    "D_Neira_Time = np.linspace(0,60,1000)\n",
    "Neira_Time = stats.skewnorm.pdf(D_Neira_Time, arrival_skew_param,arrival_mean,arrival_std)\n",
    "plt.plot(D_Neira_Time, Neira_Time)\n",
    "plt.xlabel(\"arrival time (minutes)\")\n",
    "plt.show()\n"
   ]
  },
  {
   "cell_type": "markdown",
   "metadata": {},
   "source": [
    "Wave Height Justification: traditional indonesian homes seemed to have very steep vaulted roofs their buildings, with stilts on the bottom, it seemed the height on most was well over 10 feet. I based this assumption off of pictures of lat 19th and early 20th century homes found at https://en.wikipedia.org/wiki/Architecture_of_Indonesia\n",
    "\n",
    "Inundation Justification: We generated data for this distribution using GIS. We chose an incline of X to be the base of the hill where Fort Belgica is situated. We then measured the distance from 20 random points on the beach to the edge of the hill and took the mean of those measurements as the mean of the distribution. However, the distances had a large variance with the closest distances being 50-100 meters and the farthest being over 400 meters. The majority of the town's shore is greater than 231 meters from shore, therefore we favored the greater distances with our skew and variance. It is also worth noting that based on a map from the 1820's, the majority of the town at the time of the event was also situated on the greater distance side of the fort. Lastly, while the fort closer to the shore, Fort Nassau, used to be called Fort Belgica, our map indicates that fort Belgica was moved to its current location before 1820 and before our event.\n",
    "\n",
    "Arrival Time Justification: We chose the mean to be 15 minutes to reflect the historical record. We chose a skewed distribution in order to favor arrival times that were later rather than earlier due to potential estimation error. Lastly, we chose a mild variance since it is unlikely that an arival time of greater than 30-40 minutes would be mistaken for a quarter of an hour after the event.\n"
   ]
  },
  {
   "cell_type": "code",
   "execution_count": 5,
   "metadata": {},
   "outputs": [
    {
     "data": {
      "image/png": "[encoded data removed]",
      "text/plain": [
       "<Figure size 432x288 with 1 Axes>"
      ]
     },
     "metadata": {},
     "output_type": "display_data"
    }
   ],
   "source": [
    "#Buru - Wichmann Catalog\n",
    "#Pg 149 - \"…Buru was reported merely the fact that an earthquake accompanied by a flood wave \n",
    "#had occurred, but without having caused damages.\"\n",
    "\n",
    "#IM NOT SURE WHICH BURU THIS ONE IS TALKING ABOUT. GIVEN THE SIZE OF THE WAVE RELATIVE TO WHAT WAS OBSERVED IN AMBON\n",
    "#I'M GUESSING THAT IT MEANS PULAU BURU. IN THAT CASE THE SOUTH SHORE COORDINATES ARE [-3.848928, 126.733678]\n",
    "#THIS WAS THE TOWN WHERE THE AIRPORT AND DOCKS WERE.\n",
    "\n",
    "city_name = 'PULAU BURU - Wichmann Catalog'\n",
    "name = 10004  #\n",
    "longitude = -3.848928\n",
    "latitude = 126.733678\n",
    "distance = 2.5  # in kilometers (max 5) //TODO Not sure what this is??\n",
    "kind = [None, 'chi2', None]\n",
    "\n",
    "# For kind = 'chi2'\n",
    "arrival_k = None # chi2 parameter\n",
    "arrival_lower_bound = None # in meters\n",
    "arrival_params = [arrival_k, arrival_lower_bound]\n",
    "height_k = 1.1 # chi2 param\n",
    "height_lower_bound = 0 # in meters\n",
    "height_params = [height_k, height_lower_bound]\n",
    "inundation_k = None\n",
    "inundation_lower_bound = None\n",
    "inundation_params = [inundation_k, inundation_lower_bound]\n",
    "\n",
    "beta = 0\n",
    "n = .015\n",
    "\n",
    "g = Gauge(name, longitude, latitude, distance,\n",
    "                kind, arrival_params, height_params, inundation_params, beta, n, city_name)\n",
    "gauges.append(g.to_json())\n",
    "    \n",
    "        \n",
    "height_upper_bound = 5      \n",
    "\n",
    "## Don't edit code below this\n",
    "domain = np.linspace(height_lower_bound,height_upper_bound,100)\n",
    "plt.plot(domain, stats.chi(height_k).pdf(domain - .5))\n",
    "plt.xlabel(\"wave height(meters)\")\n",
    "plt.show()\n"
   ]
  },
  {
   "cell_type": "markdown",
   "metadata": {},
   "source": [
    "Justification:  this account does not give a wave height only that there was a wave. I ruled out all waves less than 0.5 meters because these would not have been not noticeable. To not have caused destruction, I think the wave would have been relatively small, so I made it skewed to the left to favor small waves. I thought the largest reasonable wave that could not have caused any damage would be around  2.5 meters. So I made a distribution that tapers quickly after this.\n"
   ]
  },
  {
   "cell_type": "code",
   "execution_count": 6,
   "metadata": {},
   "outputs": [
    {
     "ename": "NameError",
     "evalue": "name 'ShoreAngle' is not defined",
     "output_type": "error",
     "traceback": [
      "\u001b[0;31m---------------------------------------------------------------------------\u001b[0m",
      "\u001b[0;31mNameError\u001b[0m                                 Traceback (most recent call last)",
      "\u001b[0;32m<ipython-input-6-5d5ae5be62b4>\u001b[0m in \u001b[0;36m<module>\u001b[0;34m()\u001b[0m\n\u001b[1;32m     26\u001b[0m \u001b[0;31m# Load the beta angles for the shore elevation for inundtion priors for\u001b[0m\u001b[0;34m\u001b[0m\u001b[0;34m\u001b[0m\u001b[0m\n\u001b[1;32m     27\u001b[0m \u001b[0;31m# SUPARUA\u001b[0m\u001b[0;34m\u001b[0m\u001b[0;34m\u001b[0m\u001b[0m\n\u001b[0;32m---> 28\u001b[0;31m \u001b[0mShoreAngles\u001b[0m \u001b[0;34m=\u001b[0m \u001b[0mShoreAngle\u001b[0m\u001b[0;34m.\u001b[0m\u001b[0mShoreLineAngles\u001b[0m\u001b[0;34m(\u001b[0m\u001b[0;34m'suparua_profiles'\u001b[0m\u001b[0;34m)\u001b[0m\u001b[0;34m\u001b[0m\u001b[0m\n\u001b[0m\u001b[1;32m     29\u001b[0m \u001b[0mprofiles_to_average\u001b[0m \u001b[0;34m=\u001b[0m \u001b[0;34m[\u001b[0m\u001b[0;36m4\u001b[0m\u001b[0;34m,\u001b[0m \u001b[0;36m5\u001b[0m\u001b[0;34m,\u001b[0m \u001b[0;36m8\u001b[0m\u001b[0;34m,\u001b[0m \u001b[0;36m9\u001b[0m\u001b[0;34m,\u001b[0m \u001b[0;36m10\u001b[0m\u001b[0;34m]\u001b[0m\u001b[0;34m\u001b[0m\u001b[0m\n\u001b[1;32m     30\u001b[0m \u001b[0mSUPARUA_average_angle\u001b[0m \u001b[0;34m=\u001b[0m \u001b[0mShoreAngles\u001b[0m\u001b[0;34m.\u001b[0m\u001b[0mgetAveragesSlopeAngles\u001b[0m\u001b[0;34m(\u001b[0m\u001b[0mprofiles_to_average\u001b[0m\u001b[0;34m)\u001b[0m\u001b[0;34m\u001b[0m\u001b[0m\n",
      "\u001b[0;31mNameError\u001b[0m: name 'ShoreAngle' is not defined"
     ]
    }
   ],
   "source": [
    "#Saparua - Wichmann Catalog\n",
    "#Pg 149 - \"a flood wave penetrated into the bay of Saparua four times \n",
    "#between 8:30 and 11 am and reached a height of 3m above the highest water level\"\n",
    "\n",
    "#I CHOSE BENTENG DURSTEDE'S SHORE, THE 17TH CENTURY DUTCH FORT, AS THE LOCATION FOR SAPARUA. \n",
    "#ITS COORDINATES ARE: [-3.576063, 128.658715]\n",
    "\n",
    "city_name = 'Saparua - Wichmann Catalog'\n",
    "name = 10005  #\n",
    "longitude = -3.576063\n",
    "latitude = 128.658715\n",
    "distance = 2.5  # in kilometers (max 5) //TODO Not sure what this is??\n",
    "kind = [None, 'norm', 'norm']\n",
    "\n",
    "# For kind = 'norm'\n",
    "arrival_mean = None  # in minutes\n",
    "arrival_std = None\n",
    "arrival_params = [arrival_mean, arrival_std]\n",
    "height_mean = 3.0  # in meters\n",
    "height_std = .75\n",
    "height_params = [height_mean, height_std]\n",
    "inundation_mean = 123.44\n",
    "inundation_std = .185806\n",
    "inundation_params = [inundation_mean, inundation_std]\n",
    "\n",
    "# Load the beta angles for the shore elevation for inundtion priors for\n",
    "# SUPARUA\n",
    "ShoreAngles = ShoreAngle.ShoreLineAngles('suparua_profiles')\n",
    "profiles_to_average = [4, 5, 8, 9, 10]\n",
    "SUPARUA_average_angle = ShoreAngles.getAveragesSlopeAngles(profiles_to_average)\n",
    "beta = SUPARUA_average_angle\n",
    "\n",
    "n = .03\n",
    "\n",
    "g = Gauge(name, longitude, latitude, distance,\n",
    "                kind, arrival_params, height_params, inundation_params, beta, n, city_name)\n",
    "gauges.append(g.to_json())\n",
    "\n",
    "\n",
    "domain = np.linspace(0,7,100)\n",
    "distrb = stats.norm(height_mean,height_std)\n",
    "plt.plot(domain,distrb.pdf(domain))\n",
    "plt.xlabel(\"water height(meters)\")\n",
    "plt.show()\n",
    "\n",
    "#Suparua - Wichmann\n",
    "#Pg 149 - “in the environs of the localities Saparua and Tijau it \n",
    "#[the wave] thrust itself 405 feet inland”\n",
    "\n",
    "#I CHOSE BENTENG DURSTEDE'S SHORE, THE 17TH CENTURY DUTCH FORT, AS THE LOCATION FOR SAPARUA. \n",
    "#ITS COORDINATES ARE: [-3.576063, 128.658715]\n",
    "\n",
    "#Feet\n",
    "# mean = 405\n",
    "# variance = 2 #feet squared\n",
    "# domain = np.linspace(390,420,1000)\n",
    "# distrb = stats.norm(mean,variance)\n",
    "# \n",
    "# plt.plot(domain,distrb.pdf(domain))\n",
    "# plt.xlabel(\"Inundation (feet)\")\n",
    "# plt.show()\n",
    "\n",
    "#Meters\n",
    "domain = np.linspace(120,125,100)\n",
    "distrb = stats.norm(inundation_mean,inundation_std)\n",
    "\n",
    "plt.plot(domain,distrb.pdf(domain))\n",
    "plt.xlabel(\"Inundation(meters)\")\n",
    "plt.show()"
   ]
  },
  {
   "cell_type": "markdown",
   "metadata": {},
   "source": [
    "Wave Height Justification: I chose the mean as 3m since this was the observation. I chose the variance to be .75m because I thought it was sufficiently large to account for possible estimation error while excluding waves too small to be estimated as a 3m wave.\n",
    "\n",
    "Inundation Justification: Because of how specific the measurement in the record was I left the mean at 405 ft. For the same reason I made the variance very small to reflect the precision of the measurement."
   ]
  },
  {
   "cell_type": "markdown",
   "metadata": {},
   "source": [
    "INSERT DISTRIBUTION FOR LONTHOR - Pg 149 - Wichmann - \"[THE WAVE REACHED] THE FOOT OF THE MOUNTAINS\" HERE (Claire is working the elevation data for the western mountain.)"
   ]
  },
  {
   "cell_type": "code",
   "execution_count": 45,
   "metadata": {},
   "outputs": [
    {
     "data": {
      "image/png": "[encoded data removed]",
      "text/plain": [
       "<Figure size 432x288 with 1 Axes>"
      ]
     },
     "metadata": {},
     "output_type": "display_data"
    }
   ],
   "source": [
    "#---------------------------------------------------------------------------------------------------------\n",
    "#NOTE: THIS DISTRIBUTION IS ONLY A PLACEHOLDER FOR LONTHOR. I SUSPECT THAT IT WILL BE A SKEWED DISTRIBUTION\n",
    "#BUT THIS IS ONLY AN ARCHETYPE SO WHOEVER PUTS IN THE FINAL DISTRIBUTION CAN JUST ADJUST THE VALUES\n",
    "#---------------------------------------------------------------------------------------------------------\n",
    "\n",
    "#Lonthor - Wichmann\n",
    "#Pg 149 - \"[the wave reached] the foot of the mountains\"\n",
    "\n",
    "city_name = 'Lonthor - Wichmann'\n",
    "name = 10006  #\n",
    "longitude = -3.576063\n",
    "latitude = 128.658715\n",
    "distance = 2.5  # in kilometers (max 5) //TODO Not sure what this is??\n",
    "kind = [None, None, 'skewnorm']\n",
    "\n",
    "\n",
    "# For kind = 'skewnorm'\n",
    "arrival_skew_param = None\n",
    "arrival_mean = None  # in minutes\n",
    "arrival_std = None\n",
    "arrival_params = [arrival_skew_param, arrival_mean, arrival_std]\n",
    "height_skew_param = None\n",
    "height_mean = None  # in meters\n",
    "height_std = None\n",
    "height_params = [height_skew_param, height_mean, height_std]\n",
    "inundation_skew_param = -5\n",
    "inundation_mean = 20  # in meters\n",
    "inundation_std = 5\n",
    "inundation_params = [inundation_skew_param, inundation_mean, inundation_std]\n",
    "\n",
    "# Load the beta angles for the shore elevation for inundtion priors for\n",
    "# LONTHOR\n",
    "ShoreAngles = ShoreAngle.ShoreLineAngles('lonthor_profiles')\n",
    "profiles_to_average = [10,11,12,13]\n",
    "LONTHOR_average_angle = ShoreAngles.getAveragesSlopeAngles(profiles_to_average)\n",
    "beta = LONTHOR_average_angle\n",
    "\n",
    "n = .03\n",
    "\n",
    "g = Gauge(name, longitude, latitude, distance,\n",
    "          kind, arrival_params, height_params, inundation_params, beta, n, city_name)\n",
    "gauges.append(g.to_json())\n",
    "\n",
    "\n",
    "domain = np.linspace(0,40,1000)\n",
    "distrib = stats.skewnorm.pdf(domain,inundation_skew_param,inundation_mean,inundation_std)\n",
    "plt.plot(domain,distrib)\n",
    "plt.xlabel(\"inundation (meters)\")\n",
    "plt.show()"
   ]
  },
  {
   "cell_type": "markdown",
   "metadata": {},
   "source": [
    "Justification: "
   ]
  },
  {
   "cell_type": "markdown",
   "metadata": {},
   "source": [
    "\n",
    "\n",
    "ARRIVAL TIME OBSERVATIONS\n",
    "note: arrival times are in minutes after the earthquake that occured at 7:30 am"
   ]
  },
  {
   "cell_type": "code",
   "execution_count": 47,
   "metadata": {},
   "outputs": [
    {
     "data": {
      "image/png": "[encoded data removed]",
      "text/plain": [
       "<Figure size 432x288 with 1 Axes>"
      ]
     },
     "metadata": {},
     "output_type": "display_data"
    }
   ],
   "source": [
    "#Pulau Saparua - Wichmann\n",
    "#the bay of saparua 4 times between 8:30-11Am\" - From an earlier account\n",
    "#I'm assuming the shaking happened at 7:30\n",
    "\n",
    "#I CHOSE BENTENG DURSTEDE'S SHORE, THE 17TH CENTURY DUTCH FORT, AS THE LOCATION FOR SAPARUA. \n",
    "#ITS COORDINATES ARE: [-3.576063, 128.658715]\n",
    "\n",
    "city_name = 'Pulau Saparua  - Wichmann'\n",
    "name = 10007\n",
    "longitude = -3.576063\n",
    "latitude = 128.658715\n",
    "distance = 2.5  # in kilometers (max 5) //TODO Not sure what this is??\n",
    "kind = ['skewnorm', None, None]\n",
    "\n",
    "# For kind = 'skewnorm'\n",
    "arrival_skew_param = 3.5\n",
    "arrival_mean = 60  # in minutes\n",
    "arrival_std = 10\n",
    "arrival_params = [arrival_skew_param, arrival_mean, arrival_std]\n",
    "height_skew_param = None\n",
    "height_mean = None  # in meters\n",
    "height_std = None\n",
    "height_params = [height_skew_param, height_mean, height_std]\n",
    "inundation_mean = None  # in meters\n",
    "inundation_std = None\n",
    "inundation_params = [inundation_skew_param, inundation_mean, inundation_std]\n",
    "\n",
    "beta = 0\n",
    "n = .03\n",
    "\n",
    "g = Gauge(name, longitude, latitude, distance,\n",
    "          kind, arrival_params, height_params, inundation_params, beta, n, city_name)\n",
    "gauges.append(g.to_json())\n",
    "\n",
    "\n",
    "D_Pulau_Sap_Time = np.linspace(30,100,1000)\n",
    "Pulau_Sap_Time = stats.skewnorm.pdf(D_Pulau_Sap_Time,arrival_skew_param,arrival_mean,arrival_std)\n",
    "plt.plot(D_Pulau_Sap_Time,Pulau_Sap_Time)\n",
    "plt.show()"
   ]
  },
  {
   "cell_type": "markdown",
   "metadata": {},
   "source": [
    "Justification: I favored later times again since we were given a broad window of 8:30 to 11 for the wave oscillations, however, I think we can assume the first wave arrived near 8:30. "
   ]
  },
  {
   "cell_type": "code",
   "execution_count": 14,
   "metadata": {},
   "outputs": [
    {
     "data": {
      "image/png": "[encoded data removed]",
      "text/plain": [
       "<matplotlib.figure.Figure at 0x29cb4bfecf8>"
      ]
     },
     "metadata": {},
     "output_type": "display_data"
    }
   ],
   "source": [
    "#---------------------------------------------------------------------\n",
    "#THIS IS THE AMBONIA OBSERVATION THAT WE ARE OMITTING FROM THIS RUN.\n",
    "#---------------------------------------------------------------------\n",
    "#Pulau Ambon (Ambonia) - Whichmann\n",
    "#Pg 149 - \"The wave arrived shortly after...[the flooding and draining] repeated some\n",
    "#20 times until 2 pm\"\n",
    "\n",
    "#North Shoreline coordinates - [-4.517863, 129.7745653]\n",
    "\n",
    "k = 50        \n",
    "Lower_L_Buru = 0         \n",
    "Upper_L_Buru = 90      \n",
    "\n",
    "\n",
    "domain = np.linspace(Lower_L_Buru,Upper_L_Buru,100)\n",
    "plt.plot(domain, stats.chi2(k).pdf(domain + 20))\n",
    "plt.xlabel(\"wave height(meters)\")\n",
    "plt.show()\n"
   ]
  },
  {
   "cell_type": "markdown",
   "metadata": {},
   "source": [
    "Note: Ambon is only 10 miles from saparua, that means that the wave likely hit here only 10-20 minutes off from saparua. Perhaps we could adapt this distibution to be a higher variance than Saparua?"
   ]
  },
  {
   "cell_type": "code",
   "execution_count": null,
   "metadata": {},
   "outputs": [
    {
     "name": "stdout",
     "output_type": "stream",
     "text": [
      "[{'name': 10001, 'longitude': -4.517863, 'latitude': 129.7745653, 'distance': 2.5, 'kind': [None, 'norm', None], 'arrival_params': [None, None], 'height_params': [1.0, 0.2], 'inundation_params': [None, None], 'beta': 0, 'n': 0.015, 'city_name': 'Pulu Ai - Wichmann'}, {'name': 10002, 'longitude': -3.693521, 'latitude': 128.175538, 'distance': 2.5, 'kind': [None, 'norm', None], 'arrival_params': [None, None], 'height_params': [1.8, 0.1], 'inundation_params': [None, None], 'beta': 0, 'n': 0.015, 'city_name': 'Ambonia - Wichmann'}, {'name': 10003, 'longitude': -4.529905, 'latitude': 129.897376, 'distance': 2.5, 'kind': ['skewnorm', 'norm', 'skewnorm'], 'arrival_params': [5, 15, 10], 'height_params': [4.0, 1.0], 'inundation_params': [3, 231, 85], 'beta': 4.253277987952933, 'n': 0.03, 'city_name': 'Banda Neira - Tsunami Catalog'}, {'name': 10004, 'longitude': -3.848928, 'latitude': 126.733678, 'distance': 2.5, 'kind': [None, 'chi2', None], 'arrival_params': [None, None], 'height_params': [1.1, 0], 'inundation_params': [None, None], 'beta': 0, 'n': 0.015, 'city_name': 'PULAU BURU - Wichmann Catalog'}, {'name': 10006, 'longitude': -3.576063, 'latitude': 128.658715, 'distance': 2.5, 'kind': [None, None, 'skewnorm'], 'arrival_params': [None, None, None], 'height_params': [None, None, None], 'inundation_params': [-5, 20, 5], 'beta': 11.317675884409635, 'n': 0.03, 'city_name': 'Lonthor - Wichmann'}, {'name': 10007, 'longitude': -3.576063, 'latitude': 128.658715, 'distance': 2.5, 'kind': ['skewnorm', None, None], 'arrival_params': [3.5, 60, 10], 'height_params': [None, None, None], 'inundation_params': [-5, None, None], 'beta': 0, 'n': 0.03, 'city_name': 'Pulau Saparua  - Wichmann'}]\n"
     ]
    }
   ],
   "source": [
    "#Output guages\n",
    "# print(gauges)\n",
    "np.save('gauges.npy', gauges)\n",
    "\n",
    "#Format FG Max File\n",
    "f = open('fgmax_grid.txt','w')\n",
    "f.write('1.0000000000e+01            # tstart_max\\n')\n",
    "f.write('1.0000000000e+10            # tstart_max\\n')\n",
    "f.write('0.0000000000e+00            # dt_check\\n')\n",
    "f.write('3                           # min_level_check\\n')\n",
    "f.write('1.0000000000e-02            # arrival_tol\\n')\n",
    "f.write('0                           # point_style\\n')\n",
    "f.write(str(len(gauges)) + '                          # npts\\n')\n",
    "\n",
    "\n",
    "for gauge in gauges:\n",
    "    f.write(str(gauge['latitude']) + '       ' + str(gauge['longitude']) + '\\n')\n",
    "\n",
    "f.close()\n",
    "\n",
    "\n"
   ]
  },
  {
   "cell_type": "code",
   "execution_count": null,
   "metadata": {
    "collapsed": true
   },
   "outputs": [],
   "source": []
  }
 ],
 "metadata": {
  "kernelspec": {
   "display_name": "Python 3",
   "language": "python",
   "name": "python3"
  },
  "language_info": {
   "codemirror_mode": {
    "name": "ipython",
    "version": 3
   },
   "file_extension": ".py",
   "mimetype": "text/x-python",
   "name": "python",
   "nbconvert_exporter": "python",
   "pygments_lexer": "ipython3",
   "version": "3.6.6"
  }
 },
 "nbformat": 4,
 "nbformat_minor": 2
}
